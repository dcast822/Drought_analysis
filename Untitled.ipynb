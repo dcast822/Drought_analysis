{
 "cells": [
  {
   "cell_type": "code",
   "execution_count": null,
   "id": "9dd96036-4447-485a-903e-4bd00e3f3304",
   "metadata": {},
   "outputs": [],
   "source": []
  },
  {
   "cell_type": "code",
   "execution_count": 1,
   "id": "370b2952-145f-41b0-8e6a-d554acbd0633",
   "metadata": {},
   "outputs": [],
   "source": [
    "import pandas as pd\n",
    "import numpy as np\n",
    "import seaborn as sns\n",
    "import matplotlib.pyplot as plt\n",
    "\n",
    "import requests\n",
    "import urllib\n",
    "import time\n",
    "\n",
    "import json"
   ]
  },
  {
   "cell_type": "code",
   "execution_count": 5,
   "id": "5758d9a1-6554-46c0-adfd-ef4c11f4592c",
   "metadata": {},
   "outputs": [],
   "source": [
    "url ='https://usdmdataservices.unl.edu/api/UrbanAreaStatistics/GetDroughtSeverityStatisticsByPopulation?aoi=TOTAL&startdate=12/1/1996&enddate=12/21/2021&statisticsType=2'"
   ]
  },
  {
   "cell_type": "code",
   "execution_count": 12,
   "id": "dea9b5c8-b0c8-4692-be63-b02cc832a9c7",
   "metadata": {},
   "outputs": [],
   "source": [
    "url = 'https://usdmdataservices.unl.edu/api/FEMARegionStatistics/GetDroughtSeverityStatisticsByPopulation?aoi=TOTAL&startdate=12/1/2000&enddate=12/1/2021&statisticsType=2'"
   ]
  },
  {
   "cell_type": "code",
   "execution_count": 13,
   "id": "88a30b75-9440-40f2-aede-234c455507c0",
   "metadata": {},
   "outputs": [],
   "source": [
    "res= requests.get(url)"
   ]
  },
  {
   "cell_type": "code",
   "execution_count": 14,
   "id": "ede5c92c-a33d-405a-8d81-1d090102b2a1",
   "metadata": {},
   "outputs": [
    {
     "data": {
      "text/plain": [
       "404"
      ]
     },
     "execution_count": 14,
     "metadata": {},
     "output_type": "execute_result"
    }
   ],
   "source": [
    "res.status_code"
   ]
  },
  {
   "cell_type": "code",
   "execution_count": 8,
   "id": "805c2365-d7c6-4946-a540-5012f678d5ee",
   "metadata": {},
   "outputs": [
    {
     "ename": "SyntaxError",
     "evalue": "invalid syntax (<ipython-input-8-ebcd8758bb70>, line 1)",
     "output_type": "error",
     "traceback": [
      "\u001b[0;36m  File \u001b[0;32m\"<ipython-input-8-ebcd8758bb70>\"\u001b[0;36m, line \u001b[0;32m1\u001b[0m\n\u001b[0;31m    https://usdmdataservices.unl.edu/api/[area]/[statistics type]?aoi=CountyStatistics&startdate=[start date]&enddate=[end date]&statisticsType=[statistics type]\u001b[0m\n\u001b[0m          ^\u001b[0m\n\u001b[0;31mSyntaxError\u001b[0m\u001b[0;31m:\u001b[0m invalid syntax\n"
     ]
    }
   ],
   "source": []
  },
  {
   "cell_type": "code",
   "execution_count": null,
   "id": "46b92444-86f9-4d1e-8909-0ea654d1ae85",
   "metadata": {},
   "outputs": [],
   "source": []
  }
 ],
 "metadata": {
  "kernelspec": {
   "display_name": "Python 3",
   "language": "python",
   "name": "python3"
  },
  "language_info": {
   "codemirror_mode": {
    "name": "ipython",
    "version": 3
   },
   "file_extension": ".py",
   "mimetype": "text/x-python",
   "name": "python",
   "nbconvert_exporter": "python",
   "pygments_lexer": "ipython3",
   "version": "3.8.8"
  }
 },
 "nbformat": 4,
 "nbformat_minor": 5
}
