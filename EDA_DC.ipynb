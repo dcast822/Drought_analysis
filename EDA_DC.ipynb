{
 "cells": [
  {
   "cell_type": "markdown",
   "id": "30cdb5cb-b7f6-44fe-b40a-edd5416de81c",
   "metadata": {},
   "source": [
    "# EDA and modeling"
   ]
  },
  {
   "cell_type": "code",
   "execution_count": 1,
   "id": "d9cd0349-00e3-4db0-bc7a-2c5aa9b73d14",
   "metadata": {},
   "outputs": [],
   "source": [
    "import pandas as pd\n",
    "import numpy as np\n",
    "import matplotlib.pyplot as plt\n",
    "import seaborn as sns"
   ]
  },
  {
   "cell_type": "markdown",
   "id": "30cecd14-b2af-46e8-82e9-12ba9f72d347",
   "metadata": {},
   "source": [
    "## EDA"
   ]
  },
  {
   "cell_type": "code",
   "execution_count": null,
   "id": "33d89f1a-f763-4a5c-af6e-9fa6d52b1eb4",
   "metadata": {},
   "outputs": [],
   "source": []
  },
  {
   "cell_type": "code",
   "execution_count": null,
   "id": "6e7af2a7-2f52-4c49-8042-7999f2b29b56",
   "metadata": {},
   "outputs": [],
   "source": []
  }
 ],
 "metadata": {
  "kernelspec": {
   "display_name": "Python 3",
   "language": "python",
   "name": "python3"
  },
  "language_info": {
   "codemirror_mode": {
    "name": "ipython",
    "version": 3
   },
   "file_extension": ".py",
   "mimetype": "text/x-python",
   "name": "python",
   "nbconvert_exporter": "python",
   "pygments_lexer": "ipython3",
   "version": "3.8.8"
  }
 },
 "nbformat": 4,
 "nbformat_minor": 5
}
